{
 "cells": [
  {
   "cell_type": "markdown",
   "metadata": {},
   "source": [
    "# Stock Portfolio Summary Calculator\n",
    "\n",
    "## Project Overview\n",
    "This project creates a simple Python program that helps users track and analyze their stock portfolio performance. As introduced in Chapter 3 of [Practical Python for Effective Algorithmic Trading](https://www.amazon.com/dp/B0F3S8FQ7C), we'll implement a tool that calculates key metrics for each stock position and provides an overall portfolio summary.\n",
    "\n",
    "In this implementation, we'll:\n",
    "1. Collect user input for stock positions\n",
    "2. Calculate position values and performance metrics\n",
    "3. Display a comprehensive portfolio summary\n",
    "\n",
    "This project applies fundamental Python concepts including variables, data types, operators, and input/output operations - core building blocks for algorithmic trading systems."
   ]
  },
  {
   "cell_type": "markdown",
   "metadata": {},
   "source": []
  },
  {
   "cell_type": "markdown",
   "metadata": {},
   "source": [
    "## Understanding the Requirements\n",
    "\n",
    "Our Stock Portfolio Summary Calculator needs to:\n",
    "\n",
    "1. Gather data for 3 different stocks:\n",
    "   - Stock symbol\n",
    "   - Purchase price\n",
    "   - Current price\n",
    "   - Number of shares held\n",
    "\n",
    "2. Calculate for each stock:\n",
    "   - Total position value (current price × shares)\n",
    "   - Profit/loss in dollars (current value - purchase value)\n",
    "   - Profit/loss percentage ((current value - purchase value) / purchase value × 100)\n",
    "\n",
    "3. Generate a complete portfolio summary:\n",
    "   - Individual stock performance\n",
    "   - Total portfolio value\n",
    "   - Overall portfolio profit/loss\n",
    "\n",
    "This implementation applies the Python basics covered in Chapter 3, demonstrating how even simple programs can provide valuable financial insights.\n",
    "\n",
    "For deeper coverage of financial calculations and more advanced portfolio analysis techniques, you might want to explore the complete [Practical Python for Effective Algorithmic Trading](https://www.amazon.com/dp/B0F3S8FQ7C) book."
   ]
  },
  {
   "cell_type": "code",
   "execution_count": 18,
   "metadata": {},
   "outputs": [
    {
     "name": "stdout",
     "output_type": "stream",
     "text": [
      "\n",
      "Enter information for Stock #1:\n",
      "\n",
      "Enter information for Stock #2:\n",
      "\n",
      "Enter information for Stock #3:\n",
      "\n",
      "==================================================\n",
      "STOCK PORTFOLIO SUMMARY\n",
      "==================================================\n"
     ]
    }
   ],
   "source": [
    "# Stock Portfolio Summary Calculator\n",
    "# Based on concepts from Chapter 3 of \"Practical Python for Effective Algorithmic Trading\"\n",
    "\n",
    "# Initialize empty lists to store stock information\n",
    "symbols = []\n",
    "purchase_prices = []\n",
    "current_prices = []\n",
    "share_counts = []\n",
    "\n",
    "# Collect information for 3 stocks\n",
    "for i in range(3):\n",
    "    print(f\"\\nEnter information for Stock #{i+1}:\")\n",
    "    symbol = input(\"Enter stock symbol: \").upper()\n",
    "    purchase_price = float(input(\"Enter purchase price per share: $\"))\n",
    "    current_price = float(input(\"Enter current price per share: $\"))\n",
    "    shares = int(input(\"Enter number of shares: \"))\n",
    "    \n",
    "    # Add the information to our lists\n",
    "    symbols.append(symbol)\n",
    "    purchase_prices.append(purchase_price)\n",
    "    current_prices.append(current_price)\n",
    "    share_counts.append(shares)\n",
    "\n",
    "print(\"\\n\" + \"=\"*50)\n",
    "print(\"STOCK PORTFOLIO SUMMARY\")\n",
    "print(\"=\"*50)"
   ]
  },
  {
   "cell_type": "markdown",
   "metadata": {},
   "source": [
    "## Calculating Position Metrics\n",
    "\n",
    "Now that we've collected the basic stock information, we'll calculate the key metrics for each position:\n",
    "\n",
    "1. **Position Value**: The current market value of each stock position\n",
    "2. **Dollar Profit/Loss**: The absolute gain or loss in dollar terms\n",
    "3. **Percentage Profit/Loss**: The relative performance as a percentage\n",
    "\n",
    "These calculations use basic arithmetic operators as covered in Chapter 3. The percentage calculation specifically applies the concept of expressing a ratio as a percentage, which is a common operation in algorithmic trading systems."
   ]
  },
  {
   "cell_type": "code",
   "execution_count": 19,
   "metadata": {},
   "outputs": [
    {
     "name": "stdout",
     "output_type": "stream",
     "text": [
      "\n",
      "INDIVIDUAL STOCK PERFORMANCE:\n",
      "--------------------------------------------------\n",
      "SYMBOL   SHARES   PURCHASE   CURRENT    VALUE        P/L($)       P/L(%)    \n",
      "--------------------------------------------------\n",
      "AAPL     100      $100.00    $100.00    $10000.00    $0.00        0.00     %\n",
      "AMAZN    123      $100.00    $123.00    $15129.00    $2829.00     23.00    %\n",
      "META     123      $123.00    $123.00    $15129.00    $0.00        0.00     %\n"
     ]
    }
   ],
   "source": [
    "# Initialize variables to track portfolio totals\n",
    "total_current_value = 0\n",
    "total_purchase_value = 0\n",
    "\n",
    "# Display individual stock performance\n",
    "print(\"\\nINDIVIDUAL STOCK PERFORMANCE:\")\n",
    "print(\"-\"*50)\n",
    "print(f\"{'SYMBOL':<8} {'SHARES':<8} {'PURCHASE':<10} {'CURRENT':<10} {'VALUE':<12} {'P/L($)':<12} {'P/L(%)':<10}\")\n",
    "print(\"-\"*50)\n",
    "\n",
    "for i in range(len(symbols)):\n",
    "    # Calculate metrics for each stock\n",
    "    purchase_value = purchase_prices[i] * share_counts[i]\n",
    "    current_value = current_prices[i] * share_counts[i]\n",
    "    profit_loss = current_value - purchase_value\n",
    "    profit_loss_percent = (profit_loss / purchase_value) * 100\n",
    "    \n",
    "    # Update portfolio totals\n",
    "    total_purchase_value += purchase_value\n",
    "    total_current_value += current_value\n",
    "    \n",
    "    # Display stock information and metrics\n",
    "    print(f\"{symbols[i]:<8} {share_counts[i]:<8} ${purchase_prices[i]:<9.2f} ${current_prices[i]:<9.2f} ${current_value:<11.2f} ${profit_loss:<11.2f} {profit_loss_percent:<9.2f}%\")"
   ]
  },
  {
   "cell_type": "markdown",
   "metadata": {},
   "source": [
    "## Generating Portfolio Summary\n",
    "\n",
    "The final step is to calculate and display the overall portfolio performance metrics. This includes:\n",
    "\n",
    "1. Total portfolio value (sum of all current position values)\n",
    "2. Total investment (sum of all purchase values)\n",
    "3. Overall profit/loss in both dollar amount and percentage\n",
    "\n",
    "These summary statistics give investors a quick overview of their portfolio's performance at a glance.\n",
    "\n",
    "This pattern of collecting data, performing calculations, and presenting results is fundamental to many algorithmic trading applications. As you progress through [Practical Python for Effective Algorithmic Trading](https://www.amazon.com/dp/B0F3S8FQ7C), you'll learn to apply these same patterns to more sophisticated trading strategies and analysis techniques."
   ]
  },
  {
   "cell_type": "code",
   "execution_count": 20,
   "metadata": {},
   "outputs": [
    {
     "name": "stdout",
     "output_type": "stream",
     "text": [
      "\n",
      "PORTFOLIO SUMMARY:\n",
      "--------------------------------------------------\n",
      "Total Investment: $37429.00\n",
      "Current Portfolio Value: $40258.00\n",
      "Overall Profit/Loss: $2829.00 (7.56%)\n",
      "\n",
      "Your portfolio is performing well with positive returns!\n"
     ]
    }
   ],
   "source": [
    "# Calculate overall portfolio metrics\n",
    "total_profit_loss = total_current_value - total_purchase_value\n",
    "overall_profit_loss_percent = (total_profit_loss / total_purchase_value) * 100\n",
    "\n",
    "# Display portfolio summary\n",
    "print(\"\\nPORTFOLIO SUMMARY:\")\n",
    "print(\"-\"*50)\n",
    "print(f\"Total Investment: ${total_purchase_value:.2f}\")\n",
    "print(f\"Current Portfolio Value: ${total_current_value:.2f}\")\n",
    "print(f\"Overall Profit/Loss: ${total_profit_loss:.2f} ({overall_profit_loss_percent:.2f}%)\")\n",
    "\n",
    "# Determine overall performance message\n",
    "if total_profit_loss > 0:\n",
    "    print(\"\\nYour portfolio is performing well with positive returns!\")\n",
    "elif total_profit_loss < 0:\n",
    "    print(\"\\nYour portfolio is currently at a loss.\")\n",
    "else:\n",
    "    print(\"\\nYour portfolio is breaking even.\")"
   ]
  },
  {
   "cell_type": "markdown",
   "metadata": {},
   "source": [
    "## Next Steps and Enhancements\n",
    "\n",
    "This Stock Portfolio Summary Calculator demonstrates the basics of financial calculations using Python. Here are some ways you could enhance this project:\n",
    "\n",
    "1. **Data Persistence**: Save portfolio data to a file for future reference\n",
    "2. **Market Data Integration**: Fetch current prices automatically from online sources\n",
    "3. **Risk Analysis**: Add calculations for portfolio volatility and diversification metrics\n",
    "4. **Visualization**: Create charts to visually represent portfolio allocation\n",
    "\n",
    "To learn how to implement these more advanced features, consider exploring later chapters in [Practical Python for Effective Algorithmic Trading](https://www.amazon.com/dp/B0F3S8FQ7C), which covers topics like working with financial data APIs, data storage, and visualization techniques.\n",
    "\n",
    "## Join the Trading Community\n",
    "\n",
    "If you have questions about implementing this portfolio calculator or want to discuss algorithmic trading strategies with like-minded traders, consider joining [The Quantitative Elite Community](https://www.skool.com/the-quantitative-elite). It's a great place to share your projects, get feedback, and learn from other algorithmic traders at all experience levels."
   ]
  },
  {
   "cell_type": "markdown",
   "metadata": {},
   "source": [
    "## Conclusion\n",
    "\n",
    "Congratulations! You've successfully built a Stock Portfolio Summary Calculator that:\n",
    "- Collects user input for multiple stock positions\n",
    "- Calculates key performance metrics for each position\n",
    "- Generates an overall portfolio summary with profit/loss analysis\n",
    "\n",
    "This project demonstrates how even basic Python concepts can be applied to create useful financial tools. As you continue your algorithmic trading journey, you'll build upon these fundamentals to develop more sophisticated trading systems.\n",
    "\n",
    "Remember, successful algorithmic trading requires both programming skills and financial knowledge. To continue developing both areas, check out additional chapters in [Practical Python for Effective Algorithmic Trading](https://www.amazon.com/dp/B0F3S8FQ7C) or join discussions in [The Quantitative Elite Community](https://www.skool.com/the-quantitative-elite).\n",
    "\n",
    "Happy trading!"
   ]
  },
  {
   "cell_type": "code",
   "execution_count": null,
   "metadata": {},
   "outputs": [],
   "source": []
  }
 ],
 "metadata": {
  "kernelspec": {
   "display_name": "Python 3",
   "language": "python",
   "name": "python3"
  },
  "language_info": {
   "codemirror_mode": {
    "name": "ipython",
    "version": 3
   },
   "file_extension": ".py",
   "mimetype": "text/x-python",
   "name": "python",
   "nbconvert_exporter": "python",
   "pygments_lexer": "ipython3",
   "version": "3.9.6"
  }
 },
 "nbformat": 4,
 "nbformat_minor": 2
}
